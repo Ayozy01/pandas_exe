{
 "cells": [
  {
   "cell_type": "markdown",
   "id": "04c179f3",
   "metadata": {},
   "source": [
    "<p align=\"center\" >\n",
    "<a href=\"https://www.wdc.ng/\">\n",
    "<img src='https://images.yalwa.com.ng/Wild-Fusion-Digital-Centre/vap_1019131596.png'>\n",
    "</a>\n",
    "</p>"
   ]
  },
  {
   "cell_type": "markdown",
   "id": "4bd75667",
   "metadata": {},
   "source": [
    "### Pandas Series Exercise"
   ]
  },
  {
   "cell_type": "code",
   "execution_count": 1,
   "id": "2355ed18",
   "metadata": {},
   "outputs": [],
   "source": [
    "import pandas as pd"
   ]
  },
  {
   "cell_type": "code",
   "execution_count": 83,
   "id": "732ab76b",
   "metadata": {},
   "outputs": [],
   "source": [
    "import numpy as np"
   ]
  },
  {
   "cell_type": "code",
   "execution_count": 38,
   "id": "0ae56df6-a613-43cd-b200-7b500229b81b",
   "metadata": {},
   "outputs": [
    {
     "name": "stdout",
     "output_type": "stream",
     "text": [
      "30\n",
      "40\n"
     ]
    }
   ],
   "source": [
    "# Exercise\n",
    "labels = ['a','b','c','d','e']\n",
    "data = [10, 20, 30, 40, 50]\n",
    "data_dict = {'A': 10, 'B': 20, 'C': 30, 'D': 40, 'E': 50}\n",
    "# create series with the List(labels & data)\n",
    "my_series = pd.Series(data,labels)\n",
    "my_series\n",
    "# create series with the Dictonary{data_dict}\n",
    "my_dict = pd.Series(data_dict)\n",
    "\n",
    "my_dict\n",
    "\n",
    "print(my_dict['C'])\n",
    "print(my_dict['D'])"
   ]
  },
  {
   "cell_type": "code",
   "execution_count": 9,
   "id": "b5be87cc",
   "metadata": {},
   "outputs": [],
   "source": [
    "data = [10, 20, 30, 40, 50]"
   ]
  },
  {
   "cell_type": "code",
   "execution_count": 39,
   "id": "fe09bedf",
   "metadata": {},
   "outputs": [],
   "source": [
    "labels = pd.Series(data,['a','b','c','d','e'])"
   ]
  },
  {
   "cell_type": "code",
   "execution_count": 40,
   "id": "56babbfd",
   "metadata": {
    "scrolled": true
   },
   "outputs": [
    {
     "data": {
      "text/plain": [
       "a    10\n",
       "b    20\n",
       "c    30\n",
       "d    40\n",
       "e    50\n",
       "dtype: int64"
      ]
     },
     "execution_count": 40,
     "metadata": {},
     "output_type": "execute_result"
    }
   ],
   "source": [
    "labels"
   ]
  },
  {
   "cell_type": "code",
   "execution_count": 41,
   "id": "fbdadcd0",
   "metadata": {},
   "outputs": [
    {
     "data": {
      "text/plain": [
       "array([10, 20, 30, 40, 50], dtype=int64)"
      ]
     },
     "execution_count": 41,
     "metadata": {},
     "output_type": "execute_result"
    }
   ],
   "source": [
    "labels.values"
   ]
  },
  {
   "cell_type": "code",
   "execution_count": 22,
   "id": "2221c48a",
   "metadata": {},
   "outputs": [
    {
     "data": {
      "text/plain": [
       "<function list.index(value, start=0, stop=9223372036854775807, /)>"
      ]
     },
     "execution_count": 22,
     "metadata": {},
     "output_type": "execute_result"
    }
   ],
   "source": [
    "data.index"
   ]
  },
  {
   "cell_type": "markdown",
   "id": "f0c964bc",
   "metadata": {},
   "source": [
    "### Pandas DataFrame Exercise"
   ]
  },
  {
   "cell_type": "code",
   "execution_count": 81,
   "id": "08a1c401",
   "metadata": {},
   "outputs": [],
   "source": [
    "# Dataframe Exercise\n",
    "data2 = {'Name': ['Alice', 'Bob', 'Charlie'],\n",
    "        'Age': [25, 30, 35],\n",
    "        'City': ['New York', 'San Francisco', 'Los Angeles']}\n",
    "# syntax to convert my datas to dataframe\n",
    "data2 = pd.DataFrame(data2)\n",
    "# call my variable to print \n",
    "data2\n",
    "\n",
    "data2['City']\n",
    "\n",
    "# Dataframe Exercise 2\n",
    "data2 = {'Name': ['Alice', 'Bob', 'Charlie'],\n",
    "        'Age': [25, 30, 35],\n",
    "        'City': ['New York', 'San Francisco', 'Los Angeles']}\n",
    "data2['Last_Name'] = ['Bulus', 'Marly','Okon']\n",
    "data2 = pd.DataFrame(data2)\n"
   ]
  },
  {
   "cell_type": "code",
   "execution_count": 68,
   "id": "a4bc2648",
   "metadata": {},
   "outputs": [],
   "source": [
    "#no_age=data2.drop('Age',axis=1,inplace=True)\n"
   ]
  },
  {
   "cell_type": "code",
   "execution_count": 66,
   "id": "165fc9fc",
   "metadata": {},
   "outputs": [
    {
     "data": {
      "text/html": [
       "<div>\n",
       "<style scoped>\n",
       "    .dataframe tbody tr th:only-of-type {\n",
       "        vertical-align: middle;\n",
       "    }\n",
       "\n",
       "    .dataframe tbody tr th {\n",
       "        vertical-align: top;\n",
       "    }\n",
       "\n",
       "    .dataframe thead th {\n",
       "        text-align: right;\n",
       "    }\n",
       "</style>\n",
       "<table border=\"1\" class=\"dataframe\">\n",
       "  <thead>\n",
       "    <tr style=\"text-align: right;\">\n",
       "      <th></th>\n",
       "      <th>Name</th>\n",
       "      <th>City</th>\n",
       "      <th>Last_Name</th>\n",
       "    </tr>\n",
       "  </thead>\n",
       "  <tbody>\n",
       "    <tr>\n",
       "      <th>0</th>\n",
       "      <td>Alice</td>\n",
       "      <td>New York</td>\n",
       "      <td>Bulus</td>\n",
       "    </tr>\n",
       "    <tr>\n",
       "      <th>1</th>\n",
       "      <td>Bob</td>\n",
       "      <td>San Francisco</td>\n",
       "      <td>Marly</td>\n",
       "    </tr>\n",
       "    <tr>\n",
       "      <th>2</th>\n",
       "      <td>Charlie</td>\n",
       "      <td>Los Angeles</td>\n",
       "      <td>Okon</td>\n",
       "    </tr>\n",
       "  </tbody>\n",
       "</table>\n",
       "</div>"
      ],
      "text/plain": [
       "      Name           City Last_Name\n",
       "0    Alice       New York     Bulus\n",
       "1      Bob  San Francisco     Marly\n",
       "2  Charlie    Los Angeles      Okon"
      ]
     },
     "execution_count": 66,
     "metadata": {},
     "output_type": "execute_result"
    }
   ],
   "source": [
    "data2 = pd.DataFrame(data2)\n",
    "data2"
   ]
  },
  {
   "cell_type": "code",
   "execution_count": 77,
   "id": "3b42e812",
   "metadata": {},
   "outputs": [
    {
     "data": {
      "text/plain": [
       "Name                   Bob\n",
       "City         San Francisco\n",
       "Last_Name            Marly\n",
       "Name: 1, dtype: object"
      ]
     },
     "execution_count": 77,
     "metadata": {},
     "output_type": "execute_result"
    }
   ],
   "source": [
    "data2.iloc[1]"
   ]
  },
  {
   "cell_type": "code",
   "execution_count": 75,
   "id": "4c3c38b3",
   "metadata": {},
   "outputs": [
    {
     "data": {
      "text/plain": [
       "Name              Bob\n",
       "City    San Francisco\n",
       "Name: Marly, dtype: object"
      ]
     },
     "execution_count": 75,
     "metadata": {},
     "output_type": "execute_result"
    }
   ],
   "source": [
    "data2.set_index('Last_Name').loc['Marly']"
   ]
  },
  {
   "cell_type": "code",
   "execution_count": 73,
   "id": "86858ac0",
   "metadata": {},
   "outputs": [
    {
     "data": {
      "text/plain": [
       "Name              Bob\n",
       "City    San Francisco\n",
       "Name: Marly, dtype: object"
      ]
     },
     "execution_count": 73,
     "metadata": {},
     "output_type": "execute_result"
    }
   ],
   "source": [
    "name.loc['Marly']"
   ]
  },
  {
   "cell_type": "code",
   "execution_count": null,
   "id": "ab1f629f",
   "metadata": {},
   "outputs": [],
   "source": [
    "data2['Last_Name'] = ['Bulus', 'Marly','Okon']\n",
    "data2 = pd.DataFrame(data2)\n"
   ]
  },
  {
   "cell_type": "code",
   "execution_count": 82,
   "id": "4c78b97b",
   "metadata": {
    "scrolled": true
   },
   "outputs": [
    {
     "data": {
      "text/html": [
       "<div>\n",
       "<style scoped>\n",
       "    .dataframe tbody tr th:only-of-type {\n",
       "        vertical-align: middle;\n",
       "    }\n",
       "\n",
       "    .dataframe tbody tr th {\n",
       "        vertical-align: top;\n",
       "    }\n",
       "\n",
       "    .dataframe thead th {\n",
       "        text-align: right;\n",
       "    }\n",
       "</style>\n",
       "<table border=\"1\" class=\"dataframe\">\n",
       "  <thead>\n",
       "    <tr style=\"text-align: right;\">\n",
       "      <th></th>\n",
       "      <th>Name</th>\n",
       "      <th>Age</th>\n",
       "      <th>City</th>\n",
       "      <th>Last_Name</th>\n",
       "    </tr>\n",
       "  </thead>\n",
       "  <tbody>\n",
       "    <tr>\n",
       "      <th>1</th>\n",
       "      <td>Bob</td>\n",
       "      <td>30</td>\n",
       "      <td>San Francisco</td>\n",
       "      <td>Marly</td>\n",
       "    </tr>\n",
       "  </tbody>\n",
       "</table>\n",
       "</div>"
      ],
      "text/plain": [
       "  Name  Age           City Last_Name\n",
       "1  Bob   30  San Francisco     Marly"
      ]
     },
     "execution_count": 82,
     "metadata": {},
     "output_type": "execute_result"
    }
   ],
   "source": [
    "data2[data2['City']=='San Francisco']"
   ]
  },
  {
   "cell_type": "code",
   "execution_count": null,
   "id": "727dcab4",
   "metadata": {},
   "outputs": [],
   "source": []
  },
  {
   "cell_type": "markdown",
   "id": "1ffdd872",
   "metadata": {},
   "source": [
    "### Pandas Groupby Exercise"
   ]
  },
  {
   "cell_type": "code",
   "execution_count": 43,
   "id": "55573ac5",
   "metadata": {},
   "outputs": [],
   "source": [
    "data3 = {'Region': ['North', 'North', 'South', 'South', 'East'],\n",
    "        'Category': ['Electronics', 'Furniture', 'Electronics', 'Furniture', 'Electronics'],\n",
    "        'Sales': [1000, 800, 1200, 900, 1500],\n",
    "        'Profit': [200, 100, 250, 120, 300]}\n",
    "df = pd.DataFrame(data3)\n",
    "df[]\n"
   ]
  },
  {
   "cell_type": "markdown",
   "id": "08179b21",
   "metadata": {},
   "source": [
    "### Joins "
   ]
  },
  {
   "cell_type": "code",
   "execution_count": 86,
   "id": "c14392cb",
   "metadata": {},
   "outputs": [],
   "source": [
    "data4 = {'ID': [1, 2, 3],\n",
    "         'Name': ['Alice', 'Bob', 'Charlie']}\n",
    "data5 = {'ID': [2, 3, 4],\n",
    "         'Age': [25, 30, 35]}\n",
    "\n",
    "df1 = pd.DataFrame(data4)\n",
    "df2 = pd.DataFrame(data5)"
   ]
  },
  {
   "cell_type": "markdown",
   "id": "d2833be0",
   "metadata": {},
   "source": [
    "### Pivot Table Exercise"
   ]
  },
  {
   "cell_type": "code",
   "execution_count": 87,
   "id": "ebc5d41d",
   "metadata": {},
   "outputs": [],
   "source": [
    "data6 = {'Category': ['A', 'B', 'A', 'B', 'A'],\n",
    "        'Region': ['North', 'North', 'South', 'South', 'East'],\n",
    "        'Sales': [100, 200, 150, 250, 120]}"
   ]
  },
  {
   "cell_type": "markdown",
   "id": "d98ad1f0",
   "metadata": {},
   "source": [
    "# NAN"
   ]
  },
  {
   "cell_type": "code",
   "execution_count": null,
   "id": "6db43ba5",
   "metadata": {},
   "outputs": [],
   "source": []
  }
 ],
 "metadata": {
  "kernelspec": {
   "display_name": "Python 3 (ipykernel)",
   "language": "python",
   "name": "python3"
  },
  "language_info": {
   "codemirror_mode": {
    "name": "ipython",
    "version": 3
   },
   "file_extension": ".py",
   "mimetype": "text/x-python",
   "name": "python",
   "nbconvert_exporter": "python",
   "pygments_lexer": "ipython3",
   "version": "3.11.3"
  }
 },
 "nbformat": 4,
 "nbformat_minor": 5
}
